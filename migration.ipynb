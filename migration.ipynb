{
 "metadata": {
  "language_info": {
   "codemirror_mode": {
    "name": "ipython",
    "version": 3
   },
   "file_extension": ".py",
   "mimetype": "text/x-python",
   "name": "python",
   "nbconvert_exporter": "python",
   "pygments_lexer": "ipython3",
   "version": "3.7.6-final"
  },
  "orig_nbformat": 2,
  "kernelspec": {
   "name": "python3",
   "display_name": "Python 3",
   "language": "python"
  }
 },
 "nbformat": 4,
 "nbformat_minor": 2,
 "cells": [
  {
   "source": [
    "# Cloud Drive Migration using Colab\n",
    "This will help you migrate your files from Baidu Yun to Google Drive using Colab."
   ],
   "cell_type": "markdown",
   "metadata": {}
  },
  {
   "source": [
    "## Authorization Baidu Yun\n",
    "Running the code below would install bypy on this temporary google colab instance, and generate a link for you to authorize bypy to access your Baidu Yun Data, but only under the folder \"我的网盘/我的应用数据/bypy\"\n",
    "\n",
    "this will also generate the folder \"我的网盘/我的应用数据/bypy\" if it doesn't exist.\n",
    "\n",
    "**Click the generated link, log in your Baidu Yun, then copy the authorization code to the input box under the generated link, press Enter.**\n"
   ],
   "cell_type": "markdown",
   "metadata": {}
  },
  {
   "source": [
    "!pip install bypy==1.6.10 # install bypy\n",
    "import bypy\n",
    "bp = bypy.bypy.ByPy(processes=1) # You can specify multi-process by modify processes, but currently, recommend using only 1 process. \n",
    "# multi processes may have risk of Baidu's action towards your baidu Yun. I'm not sure about that"
   ],
   "cell_type": "code",
   "metadata": {},
   "execution_count": null,
   "outputs": []
  },
  {
   "source": [
    "## Prepare Files in Baidu Yun\n",
    "As mentioned above, bypy is only allowed to access \"我的网盘/我的应用数据/bypy\", therefore, you need to\n",
    "\n",
    "**Move/Copy the files you want to migrate into folder \"我的网盘/我的应用数据/bypy\"**  \n",
    "**This step should be completed on your Baidu Yun Web/PC/mobile client, not here**\n",
    "\n",
    "If you have successfully moved your files, running the code below should displays your files under \"我的网盘/我的应用数据/bypy\"."
   ],
   "cell_type": "markdown",
   "metadata": {}
  },
  {
   "cell_type": "code",
   "execution_count": null,
   "metadata": {},
   "outputs": [],
   "source": [
    "bp.list()"
   ]
  },
  {
   "source": [
    "## Mount Google Drive\n",
    "Running the code below would mount your Google Drive to this temporary google colab instance, on '/content/drive/MyDrive'.\n",
    "\n",
    "**Click the generated link, as you've already logged in your Google account, just copy the authorization code to the input box under the generated link, press Enter.**"
   ],
   "cell_type": "markdown",
   "metadata": {}
  },
  {
   "cell_type": "code",
   "execution_count": null,
   "metadata": {},
   "outputs": [],
   "source": [
    "from google.colab import drive\n",
    "gdrive_mount_path = '/content/drive'\n",
    "drive.mount(gdrive_mount_path)"
   ]
  },
  {
   "source": [
    "## Migrate(Copy) your files from Baidu Yun to Google Drive\n",
    "\n",
    "**Specify the original folder in Baidu Yun you want to migrate from, and the destination Google Drive folder**\n",
    "\n",
    "**Folder Only!!! not file**"
   ],
   "cell_type": "markdown",
   "metadata": {}
  },
  {
   "cell_type": "code",
   "execution_count": null,
   "metadata": {},
   "outputs": [],
   "source": [
    "baidudir=\"\" #If left blank, it means the whole \"我的网盘/我的应用数据/bypy\" folder\n",
    "gdrivedir=\"baiduyun\" # I don't recommend leave it blank"
   ]
  },
  {
   "source": [
    "Actually, bypy already provides sync function, but Baidu Yun provides wrong md5 hash value (as bypy author says).  \n",
    "Thus, the code below would \"manually\" compare the existing paths, filenames between the origin and destination.  \n",
    "Because the md5 is broken, we can't really sync the files, but the code can be re-run, which is important because the colab would automatically terminate in about 6 hours(or 12 hours, not sure) \n",
    "\n",
    "**Run the code below, re-run it if the colab terminate before the migrate complete**\n",
    "\n",
    "(It doesn't matter if it says \"FAILED\", that's just because of md5 matter)"
   ],
   "cell_type": "markdown",
   "metadata": {}
  },
  {
   "cell_type": "code",
   "execution_count": null,
   "metadata": {},
   "outputs": [],
   "source": [
    "import os\n",
    "\n",
    "full_gdrivedir = os.path.join(gdrive_mount_path, \"MyDrive/\", gdrivedir)\n",
    "print(\"The origin path in Baidu Yun:\", bypy.util.get_pcs_path(baidudir))\n",
    "print(\"The destination path:\", full_gdrivedir)\n",
    "\n",
    "bp.compare(baidudir,full_gdrivedir,skip_remote_only_dirs=True)\n",
    "for item in bp.result['remote']:\n",
    "  if item[0] == 'D':\n",
    "    bpath = os.path.join(baidudir,item[1])\n",
    "    gpath = os.path.join(full_gdrivedir,item[1])\n",
    "    print(bpath,gpath)\n",
    "    bp.downdir(remotepath=bpath, localpath=gpath)\n",
    "  elif item[0] == 'F':\n",
    "    bfile = os.path.join(baidudir,item[1])\n",
    "    gfile = os.path.join(full_gdrivedir,item[1])\n",
    "    print(gfile)\n",
    "    gpath = os.path.split(gfile)[0]\n",
    "    print(bfile,gpath)\n",
    "    bp.downfile(remotefile=bfile,localpath=gpath)"
   ]
  }
 ]
}